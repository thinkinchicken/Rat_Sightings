{
  "nbformat": 4,
  "nbformat_minor": 0,
  "metadata": {
    "colab": {
      "name": "Data_Visualization_Exerc.ipynb",
      "provenance": [],
      "mount_file_id": "10rKAoU-qCXqrWGwq-1CCgPQB5snUgEZL",
      "authorship_tag": "ABX9TyNQ5bYAj0GwTys6YkGW1HxM",
      "include_colab_link": true
    },
    "kernelspec": {
      "name": "python3",
      "display_name": "Python 3"
    },
    "language_info": {
      "name": "python"
    }
  },
  "cells": [
    {
      "cell_type": "markdown",
      "metadata": {
        "id": "view-in-github",
        "colab_type": "text"
      },
      "source": [
        "<a href=\"https://colab.research.google.com/github/thinkinchicken/Rat_Sightings/blob/main/Data_Visualization_Exerc.ipynb\" target=\"_parent\"><img src=\"https://colab.research.google.com/assets/colab-badge.svg\" alt=\"Open In Colab\"/></a>"
      ]
    },
    {
      "cell_type": "code",
      "metadata": {
        "id": "J5yn_unbgw5v"
      },
      "source": [
        "#Imports\n",
        "import pandas as pd\n",
        "import numpy as np\n",
        "import seaborn as sns\n",
        "import matplotlib.pyplot as plt\n",
        "import datetime as dt\n"
      ],
      "execution_count": null,
      "outputs": []
    },
    {
      "cell_type": "code",
      "metadata": {
        "id": "ha3DCZrPnSX_"
      },
      "source": [
        "filepath = '/content/drive/MyDrive/Colab Notebooks/04 Week 4: Explanatory Viz/Rat_Sightings.csv'"
      ],
      "execution_count": null,
      "outputs": []
    },
    {
      "cell_type": "code",
      "metadata": {
        "id": "4lt9lSK8nlq6",
        "colab": {
          "base_uri": "https://localhost:8080/"
        },
        "outputId": "b8b30731-d244-4bba-c439-9ec6634020a5"
      },
      "source": [
        "rat_df = pd.read_csv(filepath)"
      ],
      "execution_count": null,
      "outputs": [
        {
          "output_type": "stream",
          "name": "stderr",
          "text": [
            "/usr/local/lib/python3.7/dist-packages/IPython/core/interactiveshell.py:2718: DtypeWarning: Columns (18) have mixed types.Specify dtype option on import or set low_memory=False.\n",
            "  interactivity=interactivity, compiler=compiler, result=result)\n"
          ]
        }
      ]
    },
    {
      "cell_type": "code",
      "metadata": {
        "colab": {
          "base_uri": "https://localhost:8080/",
          "height": 522
        },
        "id": "CEkoON_tnsB1",
        "outputId": "ce851a05-ac72-4588-f758-11a6d935431b"
      },
      "source": [
        "#Exploring the columns and data types, checking for null values etc...\n",
        "rat_df.head()"
      ],
      "execution_count": null,
      "outputs": [
        {
          "output_type": "execute_result",
          "data": {
            "text/html": [
              "<div>\n",
              "<style scoped>\n",
              "    .dataframe tbody tr th:only-of-type {\n",
              "        vertical-align: middle;\n",
              "    }\n",
              "\n",
              "    .dataframe tbody tr th {\n",
              "        vertical-align: top;\n",
              "    }\n",
              "\n",
              "    .dataframe thead th {\n",
              "        text-align: right;\n",
              "    }\n",
              "</style>\n",
              "<table border=\"1\" class=\"dataframe\">\n",
              "  <thead>\n",
              "    <tr style=\"text-align: right;\">\n",
              "      <th></th>\n",
              "      <th>Address Type</th>\n",
              "      <th>Agency Name</th>\n",
              "      <th>Agency</th>\n",
              "      <th>Borough</th>\n",
              "      <th>City</th>\n",
              "      <th>Closed Date</th>\n",
              "      <th>Community Board</th>\n",
              "      <th>Complaint Type</th>\n",
              "      <th>Created Date</th>\n",
              "      <th>Cross Street 1</th>\n",
              "      <th>Cross Street 2</th>\n",
              "      <th>Descriptor</th>\n",
              "      <th>Due Date</th>\n",
              "      <th>Facility Type</th>\n",
              "      <th>Incident Address</th>\n",
              "      <th>Incident Zip</th>\n",
              "      <th>Intersection Street 1</th>\n",
              "      <th>Intersection Street 2</th>\n",
              "      <th>Landmark</th>\n",
              "      <th>Latitude</th>\n",
              "      <th>Location Type</th>\n",
              "      <th>Longitude</th>\n",
              "      <th>Park Borough</th>\n",
              "      <th>Park Facility Name</th>\n",
              "      <th>Resolution Action Updated Date</th>\n",
              "      <th>Status</th>\n",
              "      <th>Street Name</th>\n",
              "      <th>Unique Key</th>\n",
              "    </tr>\n",
              "  </thead>\n",
              "  <tbody>\n",
              "    <tr>\n",
              "      <th>0</th>\n",
              "      <td>ADDRESS</td>\n",
              "      <td>Department of Health and Mental Hygiene</td>\n",
              "      <td>DOHMH</td>\n",
              "      <td>QUEENS</td>\n",
              "      <td>Jamaica</td>\n",
              "      <td>9/11/2013 0:00</td>\n",
              "      <td>12 QUEENS</td>\n",
              "      <td>Rodent</td>\n",
              "      <td>9/5/2013 0:00</td>\n",
              "      <td>134 AVENUE</td>\n",
              "      <td>137 AVENUE</td>\n",
              "      <td>Rat Sighting</td>\n",
              "      <td>10/5/2013 20:17</td>\n",
              "      <td>NaN</td>\n",
              "      <td>134-35 154 STREET</td>\n",
              "      <td>11434.0</td>\n",
              "      <td>NaN</td>\n",
              "      <td>NaN</td>\n",
              "      <td>NaN</td>\n",
              "      <td>40.670256</td>\n",
              "      <td>Other (Explain Below)</td>\n",
              "      <td>-73.782029</td>\n",
              "      <td>QUEENS</td>\n",
              "      <td>Unspecified</td>\n",
              "      <td>11/9/2013 0:00</td>\n",
              "      <td>Closed</td>\n",
              "      <td>154 STREET</td>\n",
              "      <td>26263809.0</td>\n",
              "    </tr>\n",
              "    <tr>\n",
              "      <th>1</th>\n",
              "      <td>NaN</td>\n",
              "      <td>Department of Health and Mental Hygiene</td>\n",
              "      <td>DOHMH</td>\n",
              "      <td>MANHATTAN</td>\n",
              "      <td>NaN</td>\n",
              "      <td>20/09/2013 21:55</td>\n",
              "      <td>Unspecified MANHATTAN</td>\n",
              "      <td>Rodent</td>\n",
              "      <td>9/5/2013 0:00</td>\n",
              "      <td>170 160</td>\n",
              "      <td>EAST 3 AVENUE</td>\n",
              "      <td>Rat Sighting</td>\n",
              "      <td>10/5/2013 14:57</td>\n",
              "      <td>NaN</td>\n",
              "      <td>NaN</td>\n",
              "      <td>NaN</td>\n",
              "      <td>170  160</td>\n",
              "      <td>EAST 3  AVENUE</td>\n",
              "      <td>NaN</td>\n",
              "      <td>NaN</td>\n",
              "      <td>Other (Explain Below)</td>\n",
              "      <td>NaN</td>\n",
              "      <td>MANHATTAN</td>\n",
              "      <td>Unspecified</td>\n",
              "      <td>9/20/2013 21:55</td>\n",
              "      <td>Closed</td>\n",
              "      <td>NaN</td>\n",
              "      <td>26263848.0</td>\n",
              "    </tr>\n",
              "    <tr>\n",
              "      <th>2</th>\n",
              "      <td>ADDRESS</td>\n",
              "      <td>Department of Health and Mental Hygiene</td>\n",
              "      <td>DOHMH</td>\n",
              "      <td>MANHATTAN</td>\n",
              "      <td>NEW YORK</td>\n",
              "      <td>30/08/2013 0:00</td>\n",
              "      <td>10 MANHATTAN</td>\n",
              "      <td>Rodent</td>\n",
              "      <td>9/5/2013 0:00</td>\n",
              "      <td>WEST 113 STREET</td>\n",
              "      <td>WEST 114 STREET</td>\n",
              "      <td>Rat Sighting</td>\n",
              "      <td>10/5/2013 16:36</td>\n",
              "      <td>NaN</td>\n",
              "      <td>2098 8 AVENUE</td>\n",
              "      <td>10026.0</td>\n",
              "      <td>NaN</td>\n",
              "      <td>NaN</td>\n",
              "      <td>NaN</td>\n",
              "      <td>40.802798</td>\n",
              "      <td>3+ Family Apt. Building</td>\n",
              "      <td>-73.956540</td>\n",
              "      <td>MANHATTAN</td>\n",
              "      <td>Unspecified</td>\n",
              "      <td>5/9/2013 16:39</td>\n",
              "      <td>Pending</td>\n",
              "      <td>8 AVENUE</td>\n",
              "      <td>26264065.0</td>\n",
              "    </tr>\n",
              "    <tr>\n",
              "      <th>3</th>\n",
              "      <td>ADDRESS</td>\n",
              "      <td>Department of Health and Mental Hygiene</td>\n",
              "      <td>DOHMH</td>\n",
              "      <td>QUEENS</td>\n",
              "      <td>Bellerose</td>\n",
              "      <td>9/5/2013 0:00</td>\n",
              "      <td>13 QUEENS</td>\n",
              "      <td>Rodent</td>\n",
              "      <td>9/5/2013 0:00</td>\n",
              "      <td>81 AVENUE</td>\n",
              "      <td>82 AVENUE</td>\n",
              "      <td>Rat Sighting</td>\n",
              "      <td>10/5/2013 13:31</td>\n",
              "      <td>NaN</td>\n",
              "      <td>81-19 246 STREET</td>\n",
              "      <td>11426.0</td>\n",
              "      <td>NaN</td>\n",
              "      <td>NaN</td>\n",
              "      <td>NaN</td>\n",
              "      <td>40.739742</td>\n",
              "      <td>Other (Explain Below)</td>\n",
              "      <td>-73.722953</td>\n",
              "      <td>QUEENS</td>\n",
              "      <td>Unspecified</td>\n",
              "      <td>5/9/2013 13:39</td>\n",
              "      <td>Closed</td>\n",
              "      <td>246 STREET</td>\n",
              "      <td>26264334.0</td>\n",
              "    </tr>\n",
              "    <tr>\n",
              "      <th>4</th>\n",
              "      <td>ADDRESS</td>\n",
              "      <td>Department of Health and Mental Hygiene</td>\n",
              "      <td>DOHMH</td>\n",
              "      <td>BROOKLYN</td>\n",
              "      <td>BROOKLYN</td>\n",
              "      <td>9/9/2013 0:00</td>\n",
              "      <td>04 BROOKLYN</td>\n",
              "      <td>Rodent</td>\n",
              "      <td>9/5/2013 0:00</td>\n",
              "      <td>CENTRAL AVENUE</td>\n",
              "      <td>WILSON AVENUE</td>\n",
              "      <td>Rat Sighting</td>\n",
              "      <td>10/5/2013 15:44</td>\n",
              "      <td>NaN</td>\n",
              "      <td>196 CORNELIA STREET</td>\n",
              "      <td>11221.0</td>\n",
              "      <td>NaN</td>\n",
              "      <td>NaN</td>\n",
              "      <td>NaN</td>\n",
              "      <td>40.692298</td>\n",
              "      <td>3+ Family Apt. Building</td>\n",
              "      <td>-73.913437</td>\n",
              "      <td>BROOKLYN</td>\n",
              "      <td>Unspecified</td>\n",
              "      <td>9/9/2013 0:00</td>\n",
              "      <td>Closed</td>\n",
              "      <td>CORNELIA STREET</td>\n",
              "      <td>26264441.0</td>\n",
              "    </tr>\n",
              "  </tbody>\n",
              "</table>\n",
              "</div>"
            ],
            "text/plain": [
              "  Address Type  ...  Unique Key\n",
              "0      ADDRESS  ...  26263809.0\n",
              "1          NaN  ...  26263848.0\n",
              "2      ADDRESS  ...  26264065.0\n",
              "3      ADDRESS  ...  26264334.0\n",
              "4      ADDRESS  ...  26264441.0\n",
              "\n",
              "[5 rows x 28 columns]"
            ]
          },
          "metadata": {},
          "execution_count": 4
        }
      ]
    },
    {
      "cell_type": "code",
      "metadata": {
        "colab": {
          "base_uri": "https://localhost:8080/"
        },
        "id": "VIixjNWbYMn9",
        "outputId": "588b0e2c-852a-4f64-e3fb-ad3097f63645"
      },
      "source": [
        "rat_df.info()"
      ],
      "execution_count": null,
      "outputs": [
        {
          "output_type": "stream",
          "name": "stdout",
          "text": [
            "<class 'pandas.core.frame.DataFrame'>\n",
            "RangeIndex: 33705 entries, 0 to 33704\n",
            "Data columns (total 28 columns):\n",
            " #   Column                          Non-Null Count  Dtype  \n",
            "---  ------                          --------------  -----  \n",
            " 0   Address Type                    33563 non-null  object \n",
            " 1   Agency Name                     33705 non-null  object \n",
            " 2   Agency                          33705 non-null  object \n",
            " 3   Borough                         33705 non-null  object \n",
            " 4   City                            33556 non-null  object \n",
            " 5   Closed Date                     27433 non-null  object \n",
            " 6   Community Board                 33705 non-null  object \n",
            " 7   Complaint Type                  33705 non-null  object \n",
            " 8   Created Date                    33705 non-null  object \n",
            " 9   Cross Street 1                  28623 non-null  object \n",
            " 10  Cross Street 2                  28606 non-null  object \n",
            " 11  Descriptor                      33704 non-null  object \n",
            " 12  Due Date                        33667 non-null  object \n",
            " 13  Facility Type                   0 non-null      float64\n",
            " 14  Incident Address                30602 non-null  object \n",
            " 15  Incident Zip                    33555 non-null  float64\n",
            " 16  Intersection Street 1           3058 non-null   object \n",
            " 17  Intersection Street 2           3058 non-null   object \n",
            " 18  Landmark                        7 non-null      object \n",
            " 19  Latitude                        33446 non-null  float64\n",
            " 20  Location Type                   33704 non-null  object \n",
            " 21  Longitude                       33446 non-null  float64\n",
            " 22  Park Borough                    33704 non-null  object \n",
            " 23  Park Facility Name              33704 non-null  object \n",
            " 24  Resolution Action Updated Date  33703 non-null  object \n",
            " 25  Status                          33704 non-null  object \n",
            " 26  Street Name                     30601 non-null  object \n",
            " 27  Unique Key                      33704 non-null  float64\n",
            "dtypes: float64(5), object(23)\n",
            "memory usage: 7.2+ MB\n"
          ]
        }
      ]
    },
    {
      "cell_type": "code",
      "metadata": {
        "colab": {
          "base_uri": "https://localhost:8080/"
        },
        "id": "Jx79HRi9n-ME",
        "outputId": "6101c3d8-d13a-47ed-97d1-e69640594b27"
      },
      "source": [
        "#Checking to see the timeline of data points along the\n",
        "\n",
        "rat_df['Borough'].value_counts()"
      ],
      "execution_count": null,
      "outputs": [
        {
          "output_type": "execute_result",
          "data": {
            "text/plain": [
              "BROOKLYN         11481\n",
              "MANHATTAN         8781\n",
              "BRONX             6811\n",
              "QUEENS            4931\n",
              "STATEN ISLAND     1697\n",
              "Unspecified          4\n",
              "Name: Borough, dtype: int64"
            ]
          },
          "metadata": {},
          "execution_count": 6
        }
      ]
    },
    {
      "cell_type": "code",
      "metadata": {
        "id": "myccxpUn4wMI"
      },
      "source": [
        "#Converting one of the date columns from object to date object\n",
        "rat_df['Due Date']= pd.to_datetime(rat_df['Due Date'])\n",
        "rat_df['Due Date'] = pd.to_datetime(rat_df['Due Date'], format = '%Y/%m/%d').dt.date"
      ],
      "execution_count": null,
      "outputs": []
    },
    {
      "cell_type": "code",
      "metadata": {
        "colab": {
          "base_uri": "https://localhost:8080/"
        },
        "id": "PbGj92wbKfBs",
        "outputId": "f3d86203-5932-4042-dd3a-a8499d8f8ed9"
      },
      "source": [
        "rat_df.head()\n",
        "rat_df.info()"
      ],
      "execution_count": null,
      "outputs": [
        {
          "output_type": "stream",
          "name": "stdout",
          "text": [
            "<class 'pandas.core.frame.DataFrame'>\n",
            "RangeIndex: 33705 entries, 0 to 33704\n",
            "Data columns (total 28 columns):\n",
            " #   Column                          Non-Null Count  Dtype  \n",
            "---  ------                          --------------  -----  \n",
            " 0   Address Type                    33563 non-null  object \n",
            " 1   Agency Name                     33705 non-null  object \n",
            " 2   Agency                          33705 non-null  object \n",
            " 3   Borough                         33705 non-null  object \n",
            " 4   City                            33556 non-null  object \n",
            " 5   Closed Date                     27433 non-null  object \n",
            " 6   Community Board                 33705 non-null  object \n",
            " 7   Complaint Type                  33705 non-null  object \n",
            " 8   Created Date                    33705 non-null  object \n",
            " 9   Cross Street 1                  28623 non-null  object \n",
            " 10  Cross Street 2                  28606 non-null  object \n",
            " 11  Descriptor                      33704 non-null  object \n",
            " 12  Due Date                        33667 non-null  object \n",
            " 13  Facility Type                   0 non-null      float64\n",
            " 14  Incident Address                30602 non-null  object \n",
            " 15  Incident Zip                    33555 non-null  float64\n",
            " 16  Intersection Street 1           3058 non-null   object \n",
            " 17  Intersection Street 2           3058 non-null   object \n",
            " 18  Landmark                        7 non-null      object \n",
            " 19  Latitude                        33446 non-null  float64\n",
            " 20  Location Type                   33704 non-null  object \n",
            " 21  Longitude                       33446 non-null  float64\n",
            " 22  Park Borough                    33704 non-null  object \n",
            " 23  Park Facility Name              33704 non-null  object \n",
            " 24  Resolution Action Updated Date  33703 non-null  object \n",
            " 25  Status                          33704 non-null  object \n",
            " 26  Street Name                     30601 non-null  object \n",
            " 27  Unique Key                      33704 non-null  float64\n",
            "dtypes: float64(5), object(23)\n",
            "memory usage: 7.2+ MB\n"
          ]
        }
      ]
    },
    {
      "cell_type": "code",
      "metadata": {
        "colab": {
          "base_uri": "https://localhost:8080/"
        },
        "id": "FpMcB1dD2DJ_",
        "outputId": "898ea020-785b-49cc-cd19-d17651571b77"
      },
      "source": [
        "x_values = rat_df['Location Type'].value_counts()"
      ],
      "execution_count": null,
      "outputs": [
        {
          "output_type": "execute_result",
          "data": {
            "text/plain": [
              "3+ Family Apt. Building          13574\n",
              "1-2 Family Dwelling               6573\n",
              "Other (Explain Below)             4866\n",
              "3+ Family Mixed Use Building      2824\n",
              "Commercial Building               1575\n",
              "Vacant Lot                        1211\n",
              "Construction Site                  657\n",
              "Vacant Building                    642\n",
              "1-2 Family Mixed Use Building      601\n",
              "Catch Basin/Sewer                  353\n",
              "Parking Lot/Garage                 284\n",
              "Public Garden                      173\n",
              "Government Building                 93\n",
              "School/Pre-School                   72\n",
              "Single Room Occupancy (SRO)         50\n",
              "Public Stairs                       48\n",
              "Day Care/Nursery                    42\n",
              "Office Building                     37\n",
              "Hospital                            25\n",
              "Summer Camp                          4\n",
              "Name: Location Type, dtype: int64"
            ]
          },
          "metadata": {},
          "execution_count": 50
        }
      ]
    },
    {
      "cell_type": "code",
      "metadata": {
        "colab": {
          "base_uri": "https://localhost:8080/",
          "height": 907
        },
        "id": "DaTkal3Mqa7y",
        "outputId": "08b9acac-97db-42e2-cb0d-5c5789f4a246"
      },
      "source": [
        "#Deciding to plot rat sightings by location type\n",
        "plt.figure(figsize=(10, 15))\n",
        "rat_df['Location Type'].value_counts().sort_values(ascending = True).plot(kind = 'barh', fontsize= 15, color = 'violet')\n",
        "plt.title('Rat Sightings by Location Type in NY (2010-March 2016)', fontsize = 20)\n",
        "ax = rat_df.plot(kind=\"bar\")\n",
        "plt.grid(axis = 'x')\n",
        "plt.xlabel(\"Count\", fontsize = 15)\n",
        "plt.ylabel(\"Location Type\", fontsize =15)\n",
        "ax.set_xticklabels(x_values)\n",
        "plt.show()\n"
      ],
      "execution_count": null,
      "outputs": [
        {
          "output_type": "display_data",
          "data": {
            "image/png": "[encoded data removed]",
            "text/plain": [
              "<Figure size 720x1080 with 1 Axes>"
            ]
          },
          "metadata": {
            "needs_background": "light"
          }
        }
      ]
    },
    {
      "cell_type": "code",
      "metadata": {
        "id": "98wld8Nm664W"
      },
      "source": [
        ""
      ],
      "execution_count": null,
      "outputs": []
    }
  ]
}